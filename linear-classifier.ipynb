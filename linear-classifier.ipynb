{
 "cells": [
  {
   "cell_type": "code",
   "execution_count": 55,
   "metadata": {},
   "outputs": [],
   "source": [
    "import random\n",
    "\n",
    "import torch\n",
    "import torch.nn as nn\n",
    "\n",
    "from torch.utils.data import (Dataset,\n",
    "                              DataLoader,\n",
    "                              random_split)\n",
    "\n",
    "import pandas as pd\n",
    "import numpy as np\n",
    "import matplotlib.pyplot as plt\n",
    "\n",
    "import tqdm\n",
    "\n",
    "import mlflow"
   ]
  },
  {
   "cell_type": "code",
   "execution_count": 56,
   "metadata": {},
   "outputs": [],
   "source": [
    "seed = 0xCAFE\n",
    "\n",
    "random.seed(seed)\n",
    "np.random.seed(seed)\n",
    "torch.manual_seed(seed)\n",
    "\n",
    "torch.backends.cudnn.benchmark = False\n",
    "torch.backends.cudnn.deterministic = True\n",
    "torch.use_deterministic_algorithms(mode=True)\n",
    "\n",
    "generator = torch.Generator()\n",
    "generator.manual_seed(seed)\n",
    "\n",
    "def seed_worker(_):\n",
    "    worker_seed = torch.initial_seed() % 2**32\n",
    "    np.random.seed(worker_seed)\n",
    "    random.seed(worker_seed)\n"
   ]
  },
  {
   "cell_type": "code",
   "execution_count": 57,
   "metadata": {},
   "outputs": [],
   "source": [
    "device = torch.device('cuda' if torch.cuda.is_available() else 'cpu')"
   ]
  },
  {
   "cell_type": "code",
   "execution_count": 58,
   "metadata": {},
   "outputs": [],
   "source": [
    "class TrainDataset(Dataset):\n",
    "\n",
    "    def __init__(self, path: str, transform = None):\n",
    "        self.X, self.y = TrainDataset.get_input_and_targets(path=path)\n",
    "        self.transform = transform\n",
    "\n",
    "    def __getitem__(self, idx) -> np.ndarray:\n",
    "        if torch.is_tensor(idx):\n",
    "            idx = idx.tolist()\n",
    "\n",
    "        sample = (self.X[idx], self.y[idx])\n",
    "\n",
    "        if self.transform:\n",
    "            sample = (self.transform(sample[0]), self.transform(sample[1]))\n",
    "\n",
    "        return sample\n",
    "\n",
    "    def __len__(self) -> int:\n",
    "        return len(self.X)\n",
    "\n",
    "    @staticmethod\n",
    "    def get_input_and_targets(path: str) -> tuple[np.ndarray, np.ndarray]:\n",
    "        df = pd.read_csv(path)\n",
    "\n",
    "        X = (df.iloc[:, 1:].to_numpy() / 255.0).astype(np.float32)\n",
    "\n",
    "        y = df['label']\n",
    "\n",
    "        return X, y"
   ]
  },
  {
   "cell_type": "code",
   "execution_count": 59,
   "metadata": {},
   "outputs": [],
   "source": [
    "class TestDataset(Dataset):\n",
    "\n",
    "    def __init__(self, path: str, transform = None):\n",
    "        self.X = TestDataset.get_input(path=path)\n",
    "        self.transform = transform\n",
    "\n",
    "    def __getitem__(self, idx) -> np.ndarray:\n",
    "        if torch.is_tensor(idx):\n",
    "            idx = idx.tolist()\n",
    "\n",
    "        sample = self.X[idx]\n",
    "\n",
    "        if self.transform:\n",
    "            sample = self.transform(sample)\n",
    "\n",
    "        return sample\n",
    "\n",
    "    def __len__(self) -> int:\n",
    "        return len(self.X)\n",
    "\n",
    "    @staticmethod\n",
    "    def get_input(path: str) -> tuple[np.ndarray, np.ndarray]:\n",
    "        df = pd.read_csv(path)\n",
    "\n",
    "        X = df.to_numpy(dtype=np.float32)\n",
    "\n",
    "        return X"
   ]
  },
  {
   "cell_type": "code",
   "execution_count": 60,
   "metadata": {},
   "outputs": [],
   "source": [
    "train_subset, validation_subset = random_split(TrainDataset(path='.DATA/MNIST/train.csv'),\n",
    "                                               lengths=[ 0.8, 0.2 ],\n",
    "                                               generator=generator)"
   ]
  },
  {
   "cell_type": "code",
   "execution_count": 61,
   "metadata": {},
   "outputs": [],
   "source": [
    "train_dataloader = DataLoader(train_subset,\n",
    "                              batch_size=64,\n",
    "                              shuffle=True,\n",
    "                              generator=generator,\n",
    "                              worker_init_fn=seed_worker)"
   ]
  },
  {
   "cell_type": "code",
   "execution_count": 62,
   "metadata": {},
   "outputs": [],
   "source": [
    "eval_dataloader = DataLoader(validation_subset,\n",
    "                             batch_size=64,\n",
    "                             generator=generator,\n",
    "                             worker_init_fn=seed_worker)"
   ]
  },
  {
   "cell_type": "code",
   "execution_count": 63,
   "metadata": {},
   "outputs": [],
   "source": [
    "test_dataloader = DataLoader(TestDataset(path='.DATA/MNIST/test.csv'),\n",
    "                             batch_size=64,\n",
    "                             generator=generator,\n",
    "                             worker_init_fn=seed_worker)"
   ]
  },
  {
   "cell_type": "code",
   "execution_count": 64,
   "metadata": {},
   "outputs": [],
   "source": [
    "def train(model: nn.Module, criterion: nn.Module, optmizer: torch.optim.Optimizer, dataloader: DataLoader):\n",
    "    model.train()\n",
    "\n",
    "    progress_bar = tqdm.tqdm(enumerate(dataloader), desc='Training', leave=True)\n",
    "\n",
    "    for batch, (X, y) in progress_bar:\n",
    "        X: torch.Tensor = X.to(device)\n",
    "        y: torch.Tensor = y.to(device)\n",
    "\n",
    "        optmizer.zero_grad()\n",
    "\n",
    "        y_hat: torch.Tensor = model(X)\n",
    "\n",
    "        loss: torch.Tensor = criterion(y_hat, y)\n",
    "\n",
    "        loss.backward()\n",
    "\n",
    "        optmizer.step()\n",
    "\n",
    "        if batch % 100 == 0:\n",
    "            progress_bar.set_description(desc=f'Loss: {loss:.3f} | Training')\n",
    "\n",
    "        mlflow.log_metric('loss', loss, batch)"
   ]
  },
  {
   "cell_type": "code",
   "execution_count": 65,
   "metadata": {},
   "outputs": [],
   "source": [
    "def test(model: nn.Module, dataloader: DataLoader):\n",
    "    model.eval()\n",
    "\n",
    "    correct = int(0)\n",
    "\n",
    "    for X, y in tqdm.tqdm(dataloader, desc='Testing', leave=True):\n",
    "        X: torch.Tensor = X.to(device)\n",
    "        y: torch.Tensor = y.to(device)\n",
    "\n",
    "        y_hat: torch.Tensor = model(X)\n",
    "\n",
    "        correct += (y_hat.argmax(1) == y).sum().item()\n",
    "\n",
    "    accuracy = (correct / len(dataloader.dataset)) * 100.0\n",
    "\n",
    "    mlflow.log_metric('accuracy', accuracy)"
   ]
  },
  {
   "cell_type": "code",
   "execution_count": 66,
   "metadata": {},
   "outputs": [],
   "source": [
    "mlflow.set_tracking_uri(uri=\"http://127.0.0.1:8080\")"
   ]
  },
  {
   "cell_type": "code",
   "execution_count": 67,
   "metadata": {},
   "outputs": [
    {
     "name": "stderr",
     "output_type": "stream",
     "text": [
      "2023/11/11 20:47:23 INFO mlflow.tracking.fluent: Experiment with name 'Kaggle: Digit Recognizer' does not exist. Creating a new experiment.\n"
     ]
    }
   ],
   "source": [
    "exp = mlflow.set_experiment(experiment_name='Kaggle: Digit Recognizer')"
   ]
  },
  {
   "cell_type": "code",
   "execution_count": 68,
   "metadata": {},
   "outputs": [],
   "source": [
    "active_run = mlflow.start_run(run_name='LinearClassifier')"
   ]
  },
  {
   "cell_type": "code",
   "execution_count": 69,
   "metadata": {},
   "outputs": [],
   "source": [
    "model = nn.Linear(784, 10)\n",
    "optimizer = torch.optim.Adam(model.parameters(), lr=0.001)"
   ]
  },
  {
   "cell_type": "code",
   "execution_count": 70,
   "metadata": {},
   "outputs": [
    {
     "name": "stderr",
     "output_type": "stream",
     "text": [
      "Loss: 0.435 | Training: : 525it [00:04, 105.01it/s]\n"
     ]
    }
   ],
   "source": [
    "train(model=model, optmizer=optimizer, criterion=nn.functional.cross_entropy, dataloader=train_dataloader)"
   ]
  },
  {
   "cell_type": "code",
   "execution_count": 71,
   "metadata": {},
   "outputs": [
    {
     "name": "stderr",
     "output_type": "stream",
     "text": [
      "Testing: 100%|██████████| 132/132 [00:00<00:00, 381.32it/s]\n"
     ]
    }
   ],
   "source": [
    "test(model=model, dataloader=eval_dataloader)"
   ]
  },
  {
   "cell_type": "code",
   "execution_count": 72,
   "metadata": {},
   "outputs": [],
   "source": [
    "_ = torch.set_grad_enabled(False)"
   ]
  },
  {
   "cell_type": "code",
   "execution_count": 73,
   "metadata": {},
   "outputs": [],
   "source": [
    "def get_signature(model: nn.Module, test_dataloader: DataLoader):\n",
    "    with torch.no_grad():\n",
    "        X: torch.Tensor = next(iter(test_dataloader))\n",
    "\n",
    "        signature = mlflow.models.infer_signature(X.numpy(), model(X).numpy())\n",
    "\n",
    "        return signature"
   ]
  },
  {
   "cell_type": "code",
   "execution_count": 74,
   "metadata": {},
   "outputs": [
    {
     "name": "stderr",
     "output_type": "stream",
     "text": [
      "2023/11/11 20:47:30 WARNING mlflow.utils.requirements_utils: Found torch version (2.1.0+cpu) contains a local version label (+cpu). MLflow logged a pip requirement for this package as 'torch==2.1.0' without the local version label to make it installable from PyPI. To specify pip requirements containing local version labels, please use `conda_env` or `pip_requirements`.\n",
      "2023/11/11 20:47:34 WARNING mlflow.utils.requirements_utils: Found torch version (2.1.0+cpu) contains a local version label (+cpu). MLflow logged a pip requirement for this package as 'torch==2.1.0' without the local version label to make it installable from PyPI. To specify pip requirements containing local version labels, please use `conda_env` or `pip_requirements`.\n",
      "/home/hott/.pyenv/versions/3.11.4/envs/kdl/lib/python3.11/site-packages/_distutils_hack/__init__.py:18: UserWarning: Distutils was imported before Setuptools, but importing Setuptools also replaces the `distutils` module in `sys.modules`. This may lead to undesirable behaviors or errors. To avoid these issues, avoid using distutils directly, ensure that setuptools is installed in the traditional way (e.g. not an editable install), and/or make sure that setuptools is always imported before distutils.\n",
      "  warnings.warn(\n",
      "/home/hott/.pyenv/versions/3.11.4/envs/kdl/lib/python3.11/site-packages/_distutils_hack/__init__.py:33: UserWarning: Setuptools is replacing distutils.\n",
      "  warnings.warn(\"Setuptools is replacing distutils.\")\n"
     ]
    }
   ],
   "source": [
    "_ = mlflow.pytorch.log_model(model, artifact_path='LinearClassifierModel', signature=get_signature(model, test_dataloader))"
   ]
  },
  {
   "cell_type": "code",
   "execution_count": 75,
   "metadata": {},
   "outputs": [],
   "source": [
    "submission_path = '.DATA/MNIST/submission.csv'"
   ]
  },
  {
   "cell_type": "code",
   "execution_count": 76,
   "metadata": {},
   "outputs": [],
   "source": [
    "with open(submission_path, mode='w') as f:\n",
    "    print('ImageId', 'Label', sep=',', file=f)\n",
    "\n",
    "    for batch, X in enumerate(test_dataloader, 0):\n",
    "        X: torch.Tensor = X.to(device)\n",
    "\n",
    "        logits: torch.Tensor = model(X)\n",
    "\n",
    "        for id, y_hat in enumerate(logits.argmax(dim=1), 1):\n",
    "            id = id + (batch * test_dataloader.batch_size)\n",
    "\n",
    "            print(id, y_hat.item(), sep=',', file=f)"
   ]
  },
  {
   "cell_type": "code",
   "execution_count": 77,
   "metadata": {},
   "outputs": [],
   "source": [
    "mlflow.log_artifact(submission_path)"
   ]
  },
  {
   "cell_type": "code",
   "execution_count": 78,
   "metadata": {},
   "outputs": [
    {
     "data": {
      "image/png": "[encoded data removed]",
      "text/plain": [
       "<Figure size 1750x250 with 10 Axes>"
      ]
     },
     "metadata": {},
     "output_type": "display_data"
    }
   ],
   "source": [
    "fig, axes = plt.subplots(nrows=1, ncols=10, figsize=(17.5, 2.5))\n",
    "\n",
    "for i in range(10):\n",
    "    w: torch.Tensor = nn.functional.normalize(model.weight[i], dim=0).reshape(28, 28)\n",
    "\n",
    "    ax = axes[i]\n",
    "\n",
    "    ax.tick_params(axis='both', which='both',\n",
    "                    bottom=False, top=False,\n",
    "                    left=False, right=False,\n",
    "                    labelbottom=False, labeltop=False,\n",
    "                    labelleft=False, labelright=False)\n",
    "\n",
    "    ax.imshow(w)\n",
    "\n",
    "mlflow.log_figure(figure=fig, artifact_file='weights.png')"
   ]
  },
  {
   "cell_type": "code",
   "execution_count": 79,
   "metadata": {},
   "outputs": [],
   "source": [
    "mlflow.end_run()"
   ]
  },
  {
   "cell_type": "code",
   "execution_count": 80,
   "metadata": {},
   "outputs": [],
   "source": [
    "_ = torch.set_grad_enabled(True)"
   ]
  }
 ],
 "metadata": {
  "kernelspec": {
   "display_name": "kdl",
   "language": "python",
   "name": "python3"
  },
  "language_info": {
   "codemirror_mode": {
    "name": "ipython",
    "version": 3
   },
   "file_extension": ".py",
   "mimetype": "text/x-python",
   "name": "python",
   "nbconvert_exporter": "python",
   "pygments_lexer": "ipython3",
   "version": "3.11.4"
  }
 },
 "nbformat": 4,
 "nbformat_minor": 2
}
